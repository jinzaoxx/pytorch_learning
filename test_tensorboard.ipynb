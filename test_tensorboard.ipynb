{
 "cells": [
  {
   "cell_type": "code",
   "execution_count": null,
   "id": "b62799e1",
   "metadata": {},
   "outputs": [],
   "source": [
    "from torch.utils.tensorboard import SummaryWriter\n",
    "import numpy as np\n",
    "from PIL import Image\n",
    "writer = SummaryWriter(\"log_dir\")\n",
    "import torch\n",
    "\n",
    "\n",
    "\n"
   ]
  },
  {
   "cell_type": "code",
   "execution_count": null,
   "id": "0985577c",
   "metadata": {},
   "outputs": [],
   "source": [
    "#Log a scalar value\n",
    "# add_scalar用于检测模型的训练损失等参数\n",
    "for i in range(100):\n",
    "    writer.add_scalar('y=x', i, i)\n"
   ]
  },
  {
   "cell_type": "code",
   "execution_count": null,
   "id": "0652e14e",
   "metadata": {},
   "outputs": [],
   "source": [
    "# add_image用于查看模型训练的结果\n",
    "# Log a 2D image\n",
    "image_path = \"data/val/bees/59798110_2b6a3c8031.jpg\"\n",
    "img_PIL = Image.open(image_path)\n",
    "img_array = np.array(img_PIL)\n",
    "writer.add_image('test_image', img_array, 2,dataformats='HWC')"
   ]
  },
  {
   "cell_type": "code",
   "execution_count": null,
   "id": "bde17e67",
   "metadata": {},
   "outputs": [],
   "source": [
    "writer.close()"
   ]
  }
 ],
 "metadata": {
  "language_info": {
   "name": "python"
  }
 },
 "nbformat": 4,
 "nbformat_minor": 5
}
